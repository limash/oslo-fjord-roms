{
 "cells": [
  {
   "cell_type": "code",
   "execution_count": null,
   "metadata": {},
   "outputs": [],
   "source": [
    "import numpy as np\n",
    "import xarray as xr"
   ]
  },
  {
   "cell_type": "code",
   "execution_count": null,
   "metadata": {},
   "outputs": [],
   "source": [
    "ds = xr.open_dataset(\"/cluster/projects/nn9297k/OF160/IniClmBry/OF160_ini_v2.nc\")\n"
   ]
  },
  {
   "cell_type": "code",
   "execution_count": null,
   "metadata": {},
   "outputs": [],
   "source": [
    "ds.salt.isel(ocean_time=0, s_rho=-1).plot(figsize=(14, 7))"
   ]
  },
  {
   "cell_type": "code",
   "execution_count": null,
   "metadata": {},
   "outputs": [],
   "source": [
    "s_w_43 = np.linspace(-1, 0, num=43)\n",
    "s_rho_42 = np.linspace(s_w_43[0:2].mean(), s_w_43[-2:].mean(), num=42)"
   ]
  },
  {
   "cell_type": "code",
   "execution_count": null,
   "metadata": {},
   "outputs": [],
   "source": [
    "ds = ds.assign_coords({\"s_rho\": s_rho_42})"
   ]
  },
  {
   "cell_type": "code",
   "execution_count": null,
   "metadata": {},
   "outputs": [],
   "source": [
    "s_w = np.linspace(-1, 0, num=26)\n",
    "s_rho = np.linspace(-0.98, -0.02, num=25)\n",
    "coords = {\n",
    "    's_rho': s_rho,\n",
    "}"
   ]
  },
  {
   "cell_type": "code",
   "execution_count": null,
   "metadata": {},
   "outputs": [],
   "source": [
    "new_ds = ds.interp(coords).astype(np.float32)"
   ]
  },
  {
   "cell_type": "code",
   "execution_count": null,
   "metadata": {},
   "outputs": [],
   "source": [
    "new_ds.temp.isel(ocean_time=0, s_rho=-1).plot(figsize=(14, 7))"
   ]
  },
  {
   "cell_type": "code",
   "execution_count": null,
   "metadata": {},
   "outputs": [],
   "source": [
    "new_ds = new_ds.interpolate_na(dim=\"eta_rho\", method=\"linear\", fill_value=\"extrapolate\")\n",
    "new_ds = new_ds.interpolate_na(dim=\"xi_rho\", method=\"linear\", fill_value=\"extrapolate\")\n",
    "new_ds = new_ds.interpolate_na(dim=\"eta_u\", method=\"linear\", fill_value=\"extrapolate\")\n",
    "new_ds = new_ds.interpolate_na(dim=\"xi_u\", method=\"linear\", fill_value=\"extrapolate\")\n",
    "new_ds = new_ds.interpolate_na(dim=\"eta_v\", method=\"linear\", fill_value=\"extrapolate\")\n",
    "new_ds = new_ds.interpolate_na(dim=\"xi_v\", method=\"linear\", fill_value=\"extrapolate\")"
   ]
  },
  {
   "cell_type": "code",
   "execution_count": null,
   "metadata": {},
   "outputs": [],
   "source": [
    "new_ds.to_netcdf(\"/cluster/projects/nn9297k/OF160/Ini_s25/OF160_ini_v1.nc\")"
   ]
  },
  {
   "cell_type": "code",
   "execution_count": null,
   "metadata": {},
   "outputs": [],
   "source": []
  }
 ],
 "metadata": {
  "kernelspec": {
   "display_name": "ocean",
   "language": "python",
   "name": "python3"
  },
  "language_info": {
   "codemirror_mode": {
    "name": "ipython",
    "version": 3
   },
   "file_extension": ".py",
   "mimetype": "text/x-python",
   "name": "python",
   "nbconvert_exporter": "python",
   "pygments_lexer": "ipython3",
   "version": "3.1.0"
  },
  "orig_nbformat": 4,
  "vscode": {
   "interpreter": {
    "hash": "09182ebedb5b43d08a38b94883568d2720fd3c57eb8ca0153aac7cd0bb18f44f"
   }
  }
 },
 "nbformat": 4,
 "nbformat_minor": 2
}
