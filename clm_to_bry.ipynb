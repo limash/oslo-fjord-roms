{
 "cells": [
  {
   "cell_type": "code",
   "execution_count": null,
   "metadata": {},
   "outputs": [],
   "source": [
    "import xarray as xr"
   ]
  },
  {
   "cell_type": "code",
   "execution_count": null,
   "metadata": {},
   "outputs": [],
   "source": [
    "ds_of800_clim = xr.open_dataset('/cluster/projects/nn9297k/OF800/data_clim/OF800_his_merged.nc')\n",
    "ds_of160_clim_salt = xr.open_dataset('/cluster/projects/nn9297k/OF160/Clm/098_OF160_clm_salt.nc')\n",
    "ds_of800_bry = xr.open_dataset('/cluster/projects/nn9297k/OF800/data_bry/OF800_bry.nc')"
   ]
  },
  {
   "cell_type": "code",
   "execution_count": null,
   "metadata": {},
   "outputs": [],
   "source": [
    "ds_of800_bry"
   ]
  },
  {
   "cell_type": "code",
   "execution_count": null,
   "metadata": {},
   "outputs": [],
   "source": [
    "da_salt_west = ds_of160_clim_salt.salt.isel(xi_rho=0)\n",
    "da_salt_east = ds_of160_clim_salt.salt.isel(xi_rho=-1)\n",
    "da_salt_south = ds_of160_clim_salt.salt.isel(eta_rho=0)\n",
    "da_salt_north = ds_of160_clim_salt.salt.isel(eta_rho=-1)"
   ]
  },
  {
   "cell_type": "code",
   "execution_count": null,
   "metadata": {},
   "outputs": [],
   "source": [
    "da_salt_south"
   ]
  },
  {
   "cell_type": "code",
   "execution_count": null,
   "metadata": {},
   "outputs": [],
   "source": [
    "da_salt_west.values.shape"
   ]
  },
  {
   "cell_type": "code",
   "execution_count": null,
   "metadata": {},
   "outputs": [],
   "source": [
    "ds = xr.Dataset({\n",
    "    \"salt_west\": ([\"eta_rho\", \"ocean_time\", \"s_rho\"], da_salt_west.values),\n",
    "    \"salt_east\": ([\"eta_rho\", \"ocean_time\", \"s_rho\"], da_salt_east.values),\n",
    "    \"salt_south\": ([\"xi_rho\", \"ocean_time\", \"s_rho\"], da_salt_south.values),\n",
    "    \"salt_north\": ([\"xi_rho\", \"ocean_time\", \"s_rho\"], da_salt_north.values),\n",
    "    })"
   ]
  },
  {
   "cell_type": "code",
   "execution_count": null,
   "metadata": {},
   "outputs": [],
   "source": [
    "ds"
   ]
  },
  {
   "cell_type": "code",
   "execution_count": null,
   "metadata": {},
   "outputs": [],
   "source": []
  }
 ],
 "metadata": {
  "kernelspec": {
   "display_name": "ocean",
   "language": "python",
   "name": "python3"
  },
  "language_info": {
   "codemirror_mode": {
    "name": "ipython",
    "version": 3
   },
   "file_extension": ".py",
   "mimetype": "text/x-python",
   "name": "python",
   "nbconvert_exporter": "python",
   "pygments_lexer": "ipython3",
   "version": "3.10.9"
  }
 },
 "nbformat": 4,
 "nbformat_minor": 2
}
