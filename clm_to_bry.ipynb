{
 "cells": [
  {
   "cell_type": "markdown",
   "metadata": {},
   "source": [
    "### Extract ROMS boundary files from ROMS climatology files"
   ]
  },
  {
   "cell_type": "code",
   "execution_count": null,
   "metadata": {},
   "outputs": [],
   "source": [
    "import os\n",
    "import glob\n",
    "from dataclasses import dataclass\n",
    "\n",
    "import xarray as xr"
   ]
  },
  {
   "cell_type": "code",
   "execution_count": null,
   "metadata": {},
   "outputs": [],
   "source": [
    "@dataclass\n",
    "class RomsVar:\n",
    "    name: str\n",
    "    eta_name: str\n",
    "    xi_name: str\n",
    "    lat_name: str\n",
    "    lon_name: str\n",
    "    s_name: None | str = None\n",
    "\n",
    "@dataclass\n",
    "class RomsVars:\n",
    "    temp: RomsVar = RomsVar(\"temp\", \"eta_rho\", \"xi_rho\", \"lat_rho\", \"lon_rho\", \"s_rho\")\n",
    "    salt: RomsVar = RomsVar(\"salt\", \"eta_rho\", \"xi_rho\", \"lat_rho\", \"lon_rho\", \"s_rho\")\n",
    "    zeta: RomsVar = RomsVar(\"zeta\", \"eta_rho\", \"xi_rho\", \"lat_rho\", \"lon_rho\")\n",
    "    u: RomsVar = RomsVar(\"u\", \"eta_u\", \"xi_u\", \"lat_u\", \"lon_u\", \"s_rho\")\n",
    "    v: RomsVar = RomsVar(\"v\", \"eta_v\", \"xi_v\", \"lat_v\", \"lon_v\", \"s_rho\")\n",
    "    ubar: RomsVar = RomsVar(\"ubar\", \"eta_u\", \"xi_u\", \"lat_u\", \"lon_u\")\n",
    "    vbar: RomsVar = RomsVar(\"vbar\", \"eta_v\", \"xi_v\", \"lat_v\", \"lon_v\")"
   ]
  },
  {
   "cell_type": "code",
   "execution_count": null,
   "metadata": {},
   "outputs": [],
   "source": [
    "roms_vars = RomsVars()\n",
    "filepaths = sorted(glob.glob(\n",
    "    '/cluster/projects/nn9297k/OF160/Clm/*_OF160_clm_*.nc'\n",
    "    ))"
   ]
  },
  {
   "cell_type": "code",
   "execution_count": null,
   "metadata": {},
   "outputs": [],
   "source": [
    "def parse_filepath(filepath: str):\n",
    "    \"\"\"\n",
    "    For example: '/.../098_OF160_clm_v.nc' -> '098', 'v'\n",
    "    Returns:\n",
    "        file_number: str\n",
    "        var: str\n",
    "    \"\"\"\n",
    "    filename = os.path.basename(filepath)\n",
    "    items = filename.split(\"_\")\n",
    "    return items[0], os.path.splitext(items[-1])[0]"
   ]
  },
  {
   "cell_type": "code",
   "execution_count": null,
   "metadata": {},
   "outputs": [],
   "source": [
    "def extract_boundaries(ds: xr.Dataset, var: RomsVar):\n",
    "    \"\"\"\n",
    "    Returns: xr bry data arrays\n",
    "    \"\"\"\n",
    "    da = ds[var.name]\n",
    "    return (\n",
    "        da.isel({var.xi_name: 0}),  # west\n",
    "        da.isel({var.xi_name: -1}),  # east\n",
    "        da.isel({var.eta_name: 0}),  # south\n",
    "        da.isel({var.eta_name: -1}),  # north\n",
    "    )"
   ]
  },
  {
   "cell_type": "code",
   "execution_count": null,
   "metadata": {},
   "outputs": [],
   "source": [
    "filepath = filepaths[0]\n",
    "fnum_str, var_str = parse_filepath(filepath)\n",
    "ds = xr.open_dataset(filepath)\n",
    "var = getattr(roms_vars, var_str)\n",
    "\n",
    "da_west, da_east, da_south, da_north = extract_boundaries(ds, var)"
   ]
  },
  {
   "cell_type": "code",
   "execution_count": null,
   "metadata": {},
   "outputs": [],
   "source": [
    "da_west"
   ]
  },
  {
   "cell_type": "code",
   "execution_count": null,
   "metadata": {},
   "outputs": [],
   "source": [
    "da_west.transpose(\"ocean_time\", \"s_rho\", \"eta_rho\")"
   ]
  },
  {
   "cell_type": "code",
   "execution_count": null,
   "metadata": {},
   "outputs": [],
   "source": [
    "def get_dataset(filepath: str):\n",
    "    \"\"\"\n",
    "    Extract boundaries from a ROMS climatology files and puts them and\n",
    "    auxiliary variables to the xarray dataset\n",
    "    Returns:\n",
    "        fnum_str: str = A number of input clm file\n",
    "        var_str: str = A name of the variable\n",
    "        result: xr.Dataset\n",
    "    \"\"\"\n",
    "    fnum_str, var_str = parse_filepath(filepath)\n",
    "    ds = xr.open_dataset(filepath)\n",
    "    var = getattr(roms_vars, var_str)\n",
    "\n",
    "    da_west, da_east, da_south, da_north = extract_boundaries(ds, var)\n",
    "\n",
    "    if var.s_name is not None:\n",
    "        da_west = da_west.transpose(\"ocean_time\", var.s_name, var.eta_name)\n",
    "        da_east = da_east.transpose(\"ocean_time\", var.s_name, var.eta_name)\n",
    "        da_south = da_south.transpose(\"ocean_time\", var.s_name, var.xi_name)\n",
    "        da_north = da_north.transpose(\"ocean_time\", var.s_name, var.xi_name)\n",
    "        result = xr.Dataset({\n",
    "            f\"{var.name}_west\": ([\"ocean_time\", var.s_name, var.eta_name], da_west.values, {\"time\": \"ocean_time\"}),\n",
    "            f\"{var.name}_east\": ([\"ocean_time\", var.s_name, var.eta_name], da_east.values, {\"time\": \"ocean_time\"}),\n",
    "            f\"{var.name}_south\": ([\"ocean_time\", var.s_name, var.xi_name], da_south.values, {\"time\": \"ocean_time\"}),\n",
    "            f\"{var.name}_north\": ([\"ocean_time\", var.s_name, var.xi_name], da_north.values, {\"time\": \"ocean_time\"}),\n",
    "            f\"{var.lat_name}\": ([var.eta_name, var.xi_name], ds[var.lat_name].values),\n",
    "            f\"{var.lon_name}\": ([var.eta_name, var.xi_name], ds[var.lon_name].values),\n",
    "            \"ocean_time\": ([\"ocean_time\"], da_west.ocean_time.values),\n",
    "            })\n",
    "    else:\n",
    "        da_west = da_west.transpose(\"ocean_time\", var.eta_name)\n",
    "        da_east = da_east.transpose(\"ocean_time\", var.eta_name)\n",
    "        da_south = da_south.transpose(\"ocean_time\", var.xi_name)\n",
    "        da_north = da_north.transpose(\"ocean_time\", var.xi_name)\n",
    "        result = xr.Dataset({\n",
    "            f\"{var.name}_west\": ([\"ocean_time\", var.eta_name], da_west.values, {\"time\": \"ocean_time\"}),\n",
    "            f\"{var.name}_east\": ([\"ocean_time\", var.eta_name], da_east.values, {\"time\": \"ocean_time\"}),\n",
    "            f\"{var.name}_south\": ([\"ocean_time\", var.xi_name], da_south.values, {\"time\": \"ocean_time\"}),\n",
    "            f\"{var.name}_north\": ([\"ocean_time\", var.xi_name], da_north.values, {\"time\": \"ocean_time\"}),\n",
    "            f\"{var.lat_name}\": ([var.eta_name, var.xi_name], ds[var.lat_name].values),\n",
    "            f\"{var.lon_name}\": ([var.eta_name, var.xi_name], ds[var.lon_name].values),\n",
    "            \"ocean_time\": ([\"ocean_time\"], da_west.ocean_time.values),\n",
    "            })\n",
    "\n",
    "    return fnum_str, var_str, result"
   ]
  },
  {
   "cell_type": "code",
   "execution_count": null,
   "metadata": {},
   "outputs": [],
   "source": [
    "prev_fnumber = None\n",
    "ds_merged = None\n",
    "for filepath in filepaths:\n",
    "    fnumber, variable, ds = get_dataset(filepath)\n",
    "    if prev_fnumber is None or prev_fnumber != fnumber:\n",
    "        if ds_merged is not None:\n",
    "            ds_merged.to_netcdf(\n",
    "                f'/cluster/projects/nn9297k/OF160/Bry/{fnumber}_OF160_bry.nc'\n",
    "            )\n",
    "            print(f\"File number {fnumber} saved\")\n",
    "        ds_merged = ds\n",
    "    else:\n",
    "        ds_merged = ds_merged.merge(ds)\n",
    "    prev_fnumber = fnumber\n",
    "# save the last step\n",
    "ds_merged.to_netcdf(\n",
    "    f'/cluster/projects/nn9297k/OF160/Bry/{fnumber}_OF160_bry.nc'\n",
    ")"
   ]
  },
  {
   "cell_type": "code",
   "execution_count": null,
   "metadata": {},
   "outputs": [],
   "source": []
  }
 ],
 "metadata": {
  "kernelspec": {
   "display_name": "ocean",
   "language": "python",
   "name": "python3"
  },
  "language_info": {
   "codemirror_mode": {
    "name": "ipython",
    "version": 3
   },
   "file_extension": ".py",
   "mimetype": "text/x-python",
   "name": "python",
   "nbconvert_exporter": "python",
   "pygments_lexer": "ipython3",
   "version": "3.10.9"
  }
 },
 "nbformat": 4,
 "nbformat_minor": 2
}
