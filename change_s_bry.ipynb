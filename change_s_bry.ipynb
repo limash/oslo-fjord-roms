{
 "cells": [
  {
   "cell_type": "code",
   "execution_count": null,
   "id": "8228230a-c7d1-476b-8752-55c2a83b2fc3",
   "metadata": {},
   "outputs": [],
   "source": [
    "import os\n",
    "import glob\n",
    "\n",
    "import numpy as np\n",
    "import xarray as xr\n",
    "\n",
    "from roms_nc.handlers import extrapolate_fill"
   ]
  },
  {
   "cell_type": "code",
   "execution_count": null,
   "id": "c0d58540",
   "metadata": {},
   "outputs": [],
   "source": [
    "variables = (\n",
    "    ('temp_west', 'eta_rho'),\n",
    "    ('temp_east', 'eta_rho'),\n",
    "    ('salt_west', 'eta_rho'),\n",
    "    ('salt_east', 'eta_rho'),\n",
    "    ('zeta_west', 'eta_rho'),\n",
    "    ('zeta_east', 'eta_rho'),\n",
    "    ('temp_south', 'xi_rho'),\n",
    "    ('temp_north', 'xi_rho'),\n",
    "    ('salt_south', 'xi_rho'),\n",
    "    ('salt_north', 'xi_rho'),\n",
    "    ('zeta_south', 'xi_rho'),\n",
    "    ('zeta_north', 'xi_rho'),\n",
    "    ('u_west', 'eta_u'),\n",
    "    ('u_east', 'eta_u'),\n",
    "    ('ubar_west', 'eta_u'),\n",
    "    ('ubar_east', 'eta_u'),\n",
    "    ('u_south', 'xi_u'),\n",
    "    ('u_north', 'xi_u'),\n",
    "    ('ubar_south', 'xi_u'),\n",
    "    ('ubar_north', 'xi_u'),\n",
    "    ('v_west', 'eta_v'),\n",
    "    ('v_east', 'eta_v'),\n",
    "    ('vbar_west', 'eta_v'),\n",
    "    ('vbar_east', 'eta_v'),\n",
    "    ('v_south', 'xi_v'),\n",
    "    ('v_north', 'xi_v'),\n",
    "    ('vbar_south', 'xi_v'),\n",
    "    ('vbar_north', 'xi_v'),\n",
    ")"
   ]
  },
  {
   "cell_type": "code",
   "execution_count": null,
   "metadata": {},
   "outputs": [],
   "source": [
    "s_w_43 = np.linspace(-1, 0, num=43)\n",
    "s_rho_42 = np.linspace(s_w_43[0:2].mean(), s_w_43[-2:].mean(), num=42)\n",
    "s_w = np.linspace(-1, 0, num=26)\n",
    "s_rho = np.linspace(-0.98, -0.02, num=25)"
   ]
  },
  {
   "cell_type": "code",
   "execution_count": null,
   "id": "b8d4fc5e",
   "metadata": {},
   "outputs": [],
   "source": [
    "coords = {\n",
    "    's_rho': s_rho,\n",
    "}"
   ]
  },
  {
   "cell_type": "code",
   "execution_count": null,
   "id": "eedc829a-493c-4d09-a9c3-943461453fee",
   "metadata": {},
   "outputs": [],
   "source": [
    "filepaths = sorted(glob.glob(\n",
    "    '/cluster/projects/nn9297k/OF160/Bry/*_OF160_bry*.nc'\n",
    "    ))"
   ]
  },
  {
   "cell_type": "code",
   "execution_count": null,
   "metadata": {},
   "outputs": [],
   "source": [
    "for filepath in filepaths:\n",
    "    ds = xr.open_dataset(filepath)\n",
    "    ds = ds.assign_coords({\"s_rho\": s_rho_42})\n",
    "    new_ds = ds.interp(coords).astype(np.float32)\n",
    "    new_ds = extrapolate_fill(new_ds, variables)\n",
    "    filename = os.path.basename(filepath)\n",
    "    new_ds.to_netcdf(f\"/cluster/projects/nn9297k/OF160/Bry_s25/{filename}\")"
   ]
  },
  {
   "cell_type": "code",
   "execution_count": null,
   "id": "32f3eece",
   "metadata": {},
   "outputs": [],
   "source": []
  }
 ],
 "metadata": {
  "kernelspec": {
   "display_name": "ocean",
   "language": "python",
   "name": "python3"
  },
  "language_info": {
   "codemirror_mode": {
    "name": "ipython",
    "version": 3
   },
   "file_extension": ".py",
   "mimetype": "text/x-python",
   "name": "python",
   "nbconvert_exporter": "python",
   "pygments_lexer": "ipython3",
   "version": "3.1.0"
  },
  "vscode": {
   "interpreter": {
    "hash": "09182ebedb5b43d08a38b94883568d2720fd3c57eb8ca0153aac7cd0bb18f44f"
   }
  }
 },
 "nbformat": 4,
 "nbformat_minor": 5
}
