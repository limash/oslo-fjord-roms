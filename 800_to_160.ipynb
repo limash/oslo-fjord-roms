{
 "cells": [
  {
   "cell_type": "code",
   "execution_count": null,
   "metadata": {},
   "outputs": [],
   "source": [
    "import xarray as xr\n",
    "\n",
    "from regridding import regrid"
   ]
  },
  {
   "cell_type": "code",
   "execution_count": null,
   "metadata": {},
   "outputs": [],
   "source": [
    "ds_of160_grid = xr.open_dataset('/cluster/projects/nn9297k/OF160/Grid/OF160_grid_v1.nc')\n",
    "ds_of800_clim = xr.open_dataset('/cluster/projects/nn9297k/OF800/data_clim/OF800_his_merged.nc')\n",
    "ds_of800_bry = xr.open_dataset('/cluster/projects/nn9297k/OF800/data_bry/OF800_bry.nc')"
   ]
  },
  {
   "cell_type": "code",
   "execution_count": null,
   "metadata": {},
   "outputs": [],
   "source": [
    "ds_of160_grid"
   ]
  },
  {
   "cell_type": "code",
   "execution_count": null,
   "metadata": {},
   "outputs": [],
   "source": [
    "ds_of800_clim"
   ]
  },
  {
   "cell_type": "markdown",
   "metadata": {},
   "source": [
    "### Interpolate (regrid) temperature from 160 m to 800 m"
   ]
  },
  {
   "cell_type": "markdown",
   "metadata": {},
   "source": [
    "Prepare variables and resample from 160 to 800 meters domain.\n",
    "`https://xesmf.readthedocs.io/en/latest/notebooks/Curvilinear_grid.html`."
   ]
  },
  {
   "cell_type": "code",
   "execution_count": null,
   "metadata": {},
   "outputs": [],
   "source": [
    "parameter_name = 'ubar'\n",
    "lon_name, lat_name = 'lon_u', 'lat_u'"
   ]
  },
  {
   "cell_type": "code",
   "execution_count": null,
   "metadata": {},
   "outputs": [],
   "source": [
    "da = regrid(ds_of160_grid,\n",
    "            ds_of800_clim.isel(ocean_time=slice(0, 10)),\n",
    "            parameter_name,\n",
    "            lon_name,\n",
    "            lat_name\n",
    "            )"
   ]
  },
  {
   "cell_type": "code",
   "execution_count": null,
   "metadata": {},
   "outputs": [],
   "source": [
    "try:\n",
    "    da.isel(ocean_time=0, s_rho=-1).plot(figsize=(14, 7))\n",
    "except ValueError:\n",
    "    da.isel(ocean_time=0).plot(figsize=(14, 7))"
   ]
  },
  {
   "cell_type": "code",
   "execution_count": null,
   "metadata": {},
   "outputs": [],
   "source": [
    "eta_name, xi_name, mask_name = 'eta_u', 'xi_u', 'mask_u'"
   ]
  },
  {
   "cell_type": "code",
   "execution_count": null,
   "metadata": {},
   "outputs": [],
   "source": [
    "da = da.interpolate_na(dim=eta_name, method=\"nearest\", fill_value=\"extrapolate\")\n",
    "da = da.interpolate_na(dim=xi_name, method=\"nearest\", fill_value=\"extrapolate\")\n",
    "da = ds_of160_grid[mask_name] * da"
   ]
  },
  {
   "cell_type": "code",
   "execution_count": null,
   "metadata": {},
   "outputs": [],
   "source": [
    "try:\n",
    "    da.isel(ocean_time=0, s_rho=-1).plot(figsize=(14, 7))\n",
    "except ValueError:\n",
    "    da.isel(ocean_time=0).plot(figsize=(14, 7))"
   ]
  },
  {
   "cell_type": "code",
   "execution_count": null,
   "metadata": {},
   "outputs": [],
   "source": [
    "try:\n",
    "    ds_of800_clim[parameter_name].isel(ocean_time=0, s_rho=-1).plot(figsize=(14, 7))\n",
    "except ValueError:\n",
    "    ds_of800_clim[parameter_name].isel(ocean_time=0).plot(figsize=(14, 7))"
   ]
  },
  {
   "cell_type": "code",
   "execution_count": null,
   "metadata": {},
   "outputs": [],
   "source": [
    "da"
   ]
  },
  {
   "cell_type": "code",
   "execution_count": null,
   "metadata": {},
   "outputs": [],
   "source": [
    "ds = xr.Dataset({\n",
    "    parameter_name: da\n",
    "})"
   ]
  },
  {
   "cell_type": "code",
   "execution_count": null,
   "metadata": {},
   "outputs": [],
   "source": [
    "ds"
   ]
  },
  {
   "cell_type": "code",
   "execution_count": null,
   "metadata": {},
   "outputs": [],
   "source": [
    "ds.to_netcdf(f'/cluster/projects/nn9297k/OF160/Clm/{0:03d}_OF160_clm_{parameter_name}.nc')"
   ]
  },
  {
   "cell_type": "code",
   "execution_count": null,
   "metadata": {},
   "outputs": [],
   "source": []
  }
 ],
 "metadata": {
  "kernelspec": {
   "display_name": "ocean",
   "language": "python",
   "name": "python3"
  },
  "language_info": {
   "codemirror_mode": {
    "name": "ipython",
    "version": 3
   },
   "file_extension": ".py",
   "mimetype": "text/x-python",
   "name": "python",
   "nbconvert_exporter": "python",
   "pygments_lexer": "ipython3",
   "version": "3.10.9"
  }
 },
 "nbformat": 4,
 "nbformat_minor": 2
}
